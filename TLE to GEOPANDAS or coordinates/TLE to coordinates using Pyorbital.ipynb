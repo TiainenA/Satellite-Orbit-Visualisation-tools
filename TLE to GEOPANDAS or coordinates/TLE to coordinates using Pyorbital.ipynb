{
 "cells": [
  {
   "cell_type": "code",
   "execution_count": null,
   "id": "0a9b7573",
   "metadata": {},
   "outputs": [],
   "source": [
    "#pyorbital (https://github.com/pytroll/pyorbital) is the main tool, but geopandas is for the later steps\n",
    "#pip install pyorbital geopandas \n"
   ]
  },
  {
   "cell_type": "code",
   "execution_count": null,
   "id": "c2a4e729",
   "metadata": {},
   "outputs": [],
   "source": [
    "#Importing libraries. The first group is only needed to get the coordinates\n",
    "from pyorbital import tlefile\n",
    "from pyorbital.orbital import Orbital\n",
    "from datetime import datetime, timedelta\n",
    "import pandas as pd\n",
    "\n",
    "\n",
    "import json\n",
    "\n",
    "import geopandas\n",
    "import matplotlib.pyplot as plt\n",
    "from shapely.geometry import Point"
   ]
  },
  {
   "cell_type": "code",
   "execution_count": null,
   "id": "63860696",
   "metadata": {},
   "outputs": [],
   "source": [
    "#Iniating the dataframe. If you are processing multiple satellites, do not repeat this\n",
    "df = pd.DataFrame(columns=['SatName','Time', 'longitude', 'latitude', 'altitude', 'px', 'py', 'pz'])"
   ]
  },
  {
   "cell_type": "code",
   "execution_count": null,
   "id": "a0bdfad5",
   "metadata": {},
   "outputs": [],
   "source": [
    "#Example satellite. TLEs are not needed if you want to use the latest. Then it will try to fetch the latest (not all work)\n",
    "\n",
    "SatName=\"SUOMI100\"\n",
    "TLEline1=\"1 43804U 18099AY  23106.41328778  .00007811  00000-0  63443-3 0  9998\"\n",
    "TLEline2=\"2 43804  97.5788 170.4354 0014367 333.7649  26.2845 14.99802605238436\"\n",
    "#Replace the datetime with datetime.utcnow() if now is preferred\n",
    "TimeStart=datetime(2022,1,6,3,0)\n",
    "#This is the span of observation in seconds \n",
    "TimeSpanSec=3600"
   ]
  },
  {
   "cell_type": "code",
   "execution_count": null,
   "id": "24fdbacf",
   "metadata": {},
   "outputs": [],
   "source": [
    "#If you want this to  try to fetch the lates TLEs, replace the line with orb = Orbital('NOAA-21')\n",
    "#If you want to use TLElines in file orb = Orbital('SUOMI100', tle_file='/path/to/tle/files/tle.txt')\n",
    "orb = Orbital(SatName, line1=TLEline1, line2=TLEline2)\n",
    "orb.get_lonlatalt(TimeStart)"
   ]
  },
  {
   "cell_type": "code",
   "execution_count": null,
   "id": "f3724620",
   "metadata": {},
   "outputs": [],
   "source": [
    "#If you want to change the delay between points, change the range increment value (here 5)\n",
    "\n",
    "for x in range(0,TimeSpanSec,5):\n",
    "    time=TimeStart+timedelta(seconds=x)\n",
    "\n",
    "    ArrayP=orb.get_position(time)[1]\n",
    "    ArrayG=orb.get_lonlatalt(time)\n",
    "\n",
    "    df.loc[len(df.index)] = [SatName,time, ArrayG[0], ArrayG[1], ArrayG[2], ArrayP[0], ArrayP[1], ArrayP[2]] \n",
    "df\n"
   ]
  },
  {
   "cell_type": "code",
   "execution_count": null,
   "id": "2f1e9dae",
   "metadata": {},
   "outputs": [],
   "source": [
    "#To save the dataframe as csv\n",
    "df.to_csv('file_name.csv')"
   ]
  },
  {
   "cell_type": "code",
   "execution_count": null,
   "id": "0b2f9c27",
   "metadata": {},
   "outputs": [],
   "source": [
    "#Now geopandas part\n",
    "#TBD"
   ]
  }
 ],
 "metadata": {
  "kernelspec": {
   "display_name": "Python 3 (ipykernel)",
   "language": "python",
   "name": "python3"
  },
  "language_info": {
   "codemirror_mode": {
    "name": "ipython",
    "version": 3
   },
   "file_extension": ".py",
   "mimetype": "text/x-python",
   "name": "python",
   "nbconvert_exporter": "python",
   "pygments_lexer": "ipython3",
   "version": "3.9.13"
  }
 },
 "nbformat": 4,
 "nbformat_minor": 5
}
